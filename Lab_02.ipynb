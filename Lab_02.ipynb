{
 "cells": [
  {
   "cell_type": "code",
   "execution_count": 11,
   "id": "0573a6da",
   "metadata": {},
   "outputs": [],
   "source": [
    "import re"
   ]
  },
  {
   "cell_type": "markdown",
   "id": "bbd94c16",
   "metadata": {},
   "source": [
    "# Question 1"
   ]
  },
  {
   "cell_type": "code",
   "execution_count": 2,
   "id": "9aeeb68b",
   "metadata": {},
   "outputs": [],
   "source": [
    "with open('simple.txt', 'r') as file:\n",
    "    text = file.read()"
   ]
  },
  {
   "cell_type": "code",
   "execution_count": 3,
   "id": "acdbf851",
   "metadata": {},
   "outputs": [
    {
     "name": "stdout",
     "output_type": "stream",
     "text": [
      "abcdefghijklmnopqrstuvwxyz\n",
      "ABCDEFGHIJKLMNOPQRSTUVWXYZ \n",
      "0123456789\n",
      "\n",
      "Hehehe Ha\n",
      "\n",
      "MetaCharacters (Need to be escaped):\n",
      ".[{()\\^$|?*+\n",
      "\n",
      "\n",
      "osintframework.com\n",
      "\n",
      "321-555-4321\n",
      "123.555.1234\n",
      "\n",
      "Mr. Muneeb\n",
      "Mr Ahmed\n",
      "Ms Mahnoor\n",
      "Mrs. Khan\n",
      "Mr. T\n"
     ]
    }
   ],
   "source": [
    "print(text)"
   ]
  },
  {
   "cell_type": "code",
   "execution_count": 4,
   "id": "13bb258d",
   "metadata": {},
   "outputs": [],
   "source": [
    "#text = \"Some text containing phone numbers like 03001234567 and (042)1234567.my conatact number is 03425790214.\"\n",
    "\n",
    "jazz_regex = r\"((\\+92)|(0092)|(92)|(0))3[0-9]{9}\"\n",
    "uphone_regex = r\"((\\+92)|(0092)|(92)|(0))3[1234579][0-9]{8}\"\n",
    "warid_regex = r\"((\\+92)|(0092)|(92)|(0))32[0-9]{8}\"\n",
    "zong_regex = r\"((\\+92)|(0092)|(92)|(0))31[0-9]{8}\"\n",
    "telenor_regex = r\"((\\+92)|(0092)|(92)|(0))34[0-9]{8}\"\n",
    "\n",
    "for i, line in enumerate(text.split(\"\\n\")):\n",
    "    if re.search(jazz_regex, line):\n",
    "        print(\"jazz phone Number on line\", i)\n",
    "    if re.search(uphone_regex, line):\n",
    "        print(\"uphone Phone Number on line\", i)\n",
    "    if re.search(warid_regex, line):\n",
    "        print(\"warid Phone Number on line\", i)\n",
    "    if re.search(zong_regex, line):\n",
    "        print(\"zong  Phone Number on line\", i)\n",
    "    if re.search(telenor_regex, line):\n",
    "        print(\"telenor Phone Number on line\", i)"
   ]
  },
  {
   "cell_type": "code",
   "execution_count": null,
   "id": "f57a68ac",
   "metadata": {},
   "outputs": [],
   "source": []
  },
  {
   "cell_type": "markdown",
   "id": "e9182e15",
   "metadata": {},
   "source": [
    "# Question 2"
   ]
  },
  {
   "cell_type": "code",
   "execution_count": 5,
   "id": "934208d1",
   "metadata": {},
   "outputs": [
    {
     "name": "stdout",
     "output_type": "stream",
     "text": [
      "Enter a string of text: sultan\n",
      "sultan\n",
      "Press Enter to delete the last character...\n",
      "sulta\n",
      "Press Enter to delete the last character...\n",
      "sult\n",
      "Press Enter to delete the last character...\n",
      "sul\n",
      "Press Enter to delete the last character...\n",
      "su\n",
      "Press Enter to delete the last character...\n",
      "s\n",
      "Press Enter to delete the last character...\n"
     ]
    }
   ],
   "source": [
    "text = input(\"Enter a string of text: \")\n",
    "\n",
    "while text:\n",
    "    print(text)\n",
    "    text = re.sub(r\".$\", \"\", text)\n",
    "    input(\"Press Enter to delete the last character...\")"
   ]
  },
  {
   "cell_type": "markdown",
   "id": "82557b6a",
   "metadata": {},
   "source": [
    "# Question 3"
   ]
  },
  {
   "cell_type": "code",
   "execution_count": 6,
   "id": "48a9b31e",
   "metadata": {},
   "outputs": [],
   "source": [
    "with open(\"simple.txt\", \"r\") as file:\n",
    "    lines = file.readlines()\n",
    "\n",
    "# Check each line for a comment\n",
    "for i, line in enumerate(lines):\n",
    "    if line.startswith(\"#\"):\n",
    "        print(f\"Line {i+1} has a comment.\")\n",
    "\n",
    "        if line.startswith(\"##\"):\n",
    "            print(\"The comment is a multiline comment.\")\n",
    "        else:\n",
    "            print(\"The comment is a single line comment.\")\n"
   ]
  },
  {
   "cell_type": "code",
   "execution_count": 16,
   "id": "1bc3d0a7",
   "metadata": {},
   "outputs": [],
   "source": [
    "text=\"\"\"\n",
    "abcdefghijklmnopqrstuvwxyz\n",
    "ABCDEFGHIJKLMNOPQRSTUVWXYZ \n",
    "0123456789\n",
    "\n",
    "Hehehe Ha\n",
    "\n",
    "MetaCharacters (Need to be escaped):\n",
    ".[{()\\^$|?*+\n",
    "\n",
    "\n",
    "osintframework.com\n",
    "\n",
    "+92321-555-4321\n",
    "123.555.1234\n",
    "\n",
    "Mr. Muneeb\n",
    "Mr Ahmed\n",
    "Ms Mahnoor\n",
    "Mrs. Khan\n",
    "Mr. T\n",
    "\"\"\""
   ]
  },
  {
   "cell_type": "code",
   "execution_count": 18,
   "id": "2d6e1eb3",
   "metadata": {},
   "outputs": [
    {
     "data": {
      "text/plain": [
       "' abcdefghijklmnopqrstuvwxyz ABCDEFGHIJKLMNOPQRSTUVWXYZ  0123456789  Hehehe Ha  MetaCharacters (Need to be escaped): .[{()\\\\^$|?*+   osintframework.com  +92321-555-4321 123.555.1234  Mr. Muneeb Mr Ahmed Ms Mahnoor Mrs. Khan Mr. T '"
      ]
     },
     "execution_count": 18,
     "metadata": {},
     "output_type": "execute_result"
    }
   ],
   "source": [
    "text.replace('\\n',\" \")"
   ]
  },
  {
   "cell_type": "code",
   "execution_count": 19,
   "id": "26efe33c",
   "metadata": {},
   "outputs": [
    {
     "data": {
      "text/plain": [
       "'\\nabcdefghijklmnopqrstuvwxyz\\nABCDEFGHIJKLMNOPQRSTUVWXYZ \\n0123456789\\n\\nHehehe Ha\\n\\nMetaCharacters (Need to be escaped):\\n.[{()\\\\^$|?*+\\n\\n\\nosintframework.com\\n\\n+92321-555-4321\\n123.555.1234\\n\\nMr. Muneeb\\nMr Ahmed\\nMs Mahnoor\\nMrs. Khan\\nMr. T\\n'"
      ]
     },
     "execution_count": 19,
     "metadata": {},
     "output_type": "execute_result"
    }
   ],
   "source": [
    "text"
   ]
  },
  {
   "cell_type": "code",
   "execution_count": 14,
   "id": "ccc6ff92",
   "metadata": {},
   "outputs": [
    {
     "data": {
      "text/plain": [
       "list"
      ]
     },
     "execution_count": 14,
     "metadata": {},
     "output_type": "execute_result"
    }
   ],
   "source": []
  },
  {
   "cell_type": "code",
   "execution_count": 26,
   "id": "3f42a664",
   "metadata": {},
   "outputs": [],
   "source": [
    "jazz_regex =re.compile(r\"((\\+92)|(0092)|(92)|(0))3[0-9]{9}\")"
   ]
  },
  {
   "cell_type": "code",
   "execution_count": 24,
   "id": "5fe73760",
   "metadata": {},
   "outputs": [],
   "source": [
    "macthes=jazz_regex.search(text)\n",
    "macthes"
   ]
  },
  {
   "cell_type": "code",
   "execution_count": 27,
   "id": "c331d922",
   "metadata": {},
   "outputs": [],
   "source": [
    "pattern=re.compile(r'AB*')"
   ]
  },
  {
   "cell_type": "code",
   "execution_count": 31,
   "id": "dc7d51b2",
   "metadata": {},
   "outputs": [],
   "source": [
    "matches=pattern.finditer(text)"
   ]
  },
  {
   "cell_type": "code",
   "execution_count": 32,
   "id": "e7dcd86a",
   "metadata": {},
   "outputs": [
    {
     "name": "stdout",
     "output_type": "stream",
     "text": [
      "<re.Match object; span=(28, 30), match='AB'>\n",
      "<re.Match object; span=(195, 196), match='A'>\n"
     ]
    }
   ],
   "source": [
    "for match in matches:\n",
    "    print(match)"
   ]
  },
  {
   "cell_type": "code",
   "execution_count": null,
   "id": "913c13bd",
   "metadata": {},
   "outputs": [],
   "source": []
  }
 ],
 "metadata": {
  "kernelspec": {
   "display_name": "Python 3",
   "language": "python",
   "name": "python3"
  },
  "language_info": {
   "codemirror_mode": {
    "name": "ipython",
    "version": 3
   },
   "file_extension": ".py",
   "mimetype": "text/x-python",
   "name": "python",
   "nbconvert_exporter": "python",
   "pygments_lexer": "ipython3",
   "version": "3.8.16"
  }
 },
 "nbformat": 4,
 "nbformat_minor": 5
}
